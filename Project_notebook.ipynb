{
 "cells": [
  {
   "cell_type": "markdown",
   "metadata": {},
   "source": [
    "#  Diabetes Prediction Project\n",
    "\n",
    "---\n",
    "\n",
    "## Business Understanding\n",
    "\n",
    "Stakeholder Identification:\n",
    "\n",
    "The primary stakeholders for this diabetes prediction project include healthcare providers, public health organizations, and individual patients concerned about their diabetes risk. Healthcare providers such as primary care physicians, endocrinologists, and nurses are directly involved in diagnosing and managing diabetes. Public health organizations, including government agencies and non-profit organizations, focus on population health and preventive measures. Patients with diabetes or at risk of developing diabetes are also key stakeholders, as they benefit from early detection and personalized care.\n",
    "\n",
    "Project Value:\n",
    "\n",
    "This project addresses the critical public health issue of diabetes by leveraging machine learning techniques to predict the onset of diabetes based on health indicators. The value proposition includes:\n",
    "\n",
    "Early Detection: Identifying individuals at high risk of developing diabetes allows for early interventions and lifestyle modifications.\n",
    "Personalized Care: Tailoring healthcare interventions based on individual risk profiles improves patient outcomes and quality of life.\n",
    "Cost Savings: Preventing or delaying diabetes-related complications reduces healthcare costs and improves resource allocation.\n",
    "Data-Driven Insights: Providing actionable insights for healthcare providers and public health organizations to develop targeted interventions and policies.\n",
    "How Stakeholders Will Use the Project:\n",
    "\n",
    "Healthcare providers will use the predictive model to identify at-risk individuals, personalize treatment plans, and improve diabetes management. Public health organizations can utilize the insights to implement targeted prevention programs and policies. Patients can assess their diabetes risk using the web-based application, empowering them to make informed decisions about their health and lifestyle. Overall, the project aims to contribute to better health outcomes, cost savings, and improved healthcare access for individuals at risk of diabetes.\n",
    "\n",
    "---\n",
    "\n",
    "## Problem Statement\n",
    "\n",
    "Develop a predictive model that can identify individuals at high risk of developing diabetes based on their health indicators and demographic information.\n",
    "\n",
    "---\n",
    "\n",
    "## Objectives\n",
    "\n",
    "1. *Predictive Modeling*: To predict the binary outcome (presence or absence of diabetes).\n",
    "2. *Feature Importance*: Identify which factors are most predictive of diabetes.\n",
    "3. *Risk Profiling*: Classify individuals into different risk categories based on their predicted probability of having diabetes.\n",
    "\n",
    "---\n",
    "\n",
    "## Models for Classification\n",
    "\n",
    "1. *Logistic Regression*: A good baseline for binary classification problems.\n",
    "2. *Random Forest Classifier*: Effective for handling a mix of numerical and categorical variables and capturing complex interactions between variables.\n",
    "3. *Gradient Boosting Machines (GBM)*: Known for high performance in terms of accuracy.\n",
    "4. *Support Vector Machines (SVM)*: Effective in high-dimensional spaces.\n",
    "5. *Neural Networks*: Can capture complex non-linear relationships.\n",
    "\n",
    "---\n",
    "\n",
    "## Deployment Methods\n",
    "\n",
    "1. *Web Application*: A user-friendly interface for clinicians or individuals to input health data and receive risk assessments.\n",
    "2. *API Integration*: Integration with healthcare databases for real-time risk assessment as new data becomes available.\n",
    "\n",
    "---\n",
    "\n",
    "### Evaluation Metrics\n",
    "\n",
    "1. *Accuracy*: Proportion of total predictions that were correct.\n",
    "2. *Precision and Recall*: Particularly in medical diagnostics, minimizing false negatives (maximizing recall) might be more critical.\n",
    "3. *ROC-AUC*: Measure of the ability of the classifier to distinguish between classes.\n",
    "\n",
    "---\n",
    "\n",
    "### Success Metrics\n",
    "\n",
    "1. *Adoption by Healthcare Providers*: Measured by the number of healthcare providers utilizing the predictive tool.\n",
    "2. *Improvement in Patient Outcomes*: Reduction in the incidence of diabetes through early intervention based on the model's predictions.\n",
    "\n",
    "This framework provides a structured approach to analyzing the dataset and developing a solution that can be iteratively refined based on model performance and feedback from end-users.\n",
    "\n",
    "---"
   ]
  },
  {
   "cell_type": "markdown",
   "metadata": {},
   "source": [
    "## Data Understanding\n",
    "\n",
    "This dataset contains 3 files:\n",
    "\n",
    "> **diabetes 012 health indicators BRFSS2015.csv** is a clean dataset of 253,680 survey responses to the CDC's BRFSS2015. The target variable Diabetes_012 has 3 classes. 0 is for no diabetes or only during pregnancy, 1 is for prediabetes, and 2 is for diabetes. There is class imbalance in this dataset. This dataset has 21 feature variables\n",
    "\n",
    "> **diabetes binary 5050split health indicators _ BRFSS2015.csv** is a clean dataset of 70,692 survey responses to the CDC's BRFSS2015. It has an equal 50-50 split of respondents with no diabetes and with either prediabetes or diabetes. The target variable Diabetes_binary has 2 classes. 0 is for no diabetes, and 1 is for prediabetes or diabetes. This dataset has 21 feature variables and is balanced.\n",
    "\n",
    "> **diabetes binary health indicators BRFSS2015.csv** is a clean dataset of 253,680 survey responses to the CDC's BRFSS2015. The target variable Diabetes_binary has 2 classes. 0 is for no diabetes, and 1 is for prediabetes or diabetes. This dataset has 21 feature variables and is not balanced.\n",
    "\n",
    "The **diabetes binary health indicators BRFSS2015.csv** dataset is rich with both demographic and health-related variables, which can be instrumental in predicting diabetes and associated risk factors.\n",
    "\n",
    "The dataset contains 253,680 entries with 22 attributes. Here’s a brief description of each column:\n",
    "\n",
    "- *Diabetes_binary*: Binary target variable indicating presence (1) or absence (0) of diabetes.\n",
    "- *HighBP*: Indicator for high blood pressure.\n",
    "- *HighChol*: Indicator for high cholesterol.\n",
    "- *CholCheck*: Indicates if cholesterol levels have been checked.\n",
    "- *BMI*: Body Mass Index.\n",
    "- *Smoker*: Indicates if the person is a smoker.\n",
    "- *Stroke*: Indicates if the person has had a stroke.\n",
    "- *HeartDiseaseorAttack*: Indicates presence of heart disease or a previous heart attack.\n",
    "- *PhysActivity*: Indicates if the person engages in physical activity.\n",
    "- *Fruits*: Consumption of fruits.\n",
    "- *Veggies*: Consumption of vegetables.\n",
    "- *HvyAlcoholConsump*: Indicates heavy alcohol consumption.\n",
    "- *AnyHealthcare*: Access to healthcare.\n",
    "- *NoDocbcCost*: Indicates no doctor visit due to cost.\n",
    "- *GenHlth*: General health condition.\n",
    "- *MentHlth*: Mental health condition days in past 30 days.\n",
    "- *PhysHlth*: Physical health condition days in past 30 days.\n",
    "- *DiffWalk*: Difficulty in walking.\n",
    "- *Sex*: Gender of the person.\n",
    "- *Age*: Age category.\n",
    "- *Education*: Level of education.\n",
    "- *Income*: Income categories.\n",
    "\n"
   ]
  },
  {
   "cell_type": "markdown",
   "metadata": {},
   "source": [
    "## Importing necessary libraries for the project"
   ]
  },
  {
   "cell_type": "code",
   "execution_count": 108,
   "metadata": {},
   "outputs": [
    {
     "name": "stdout",
     "output_type": "stream",
     "text": [
      "Collecting plotly\n",
      "  Downloading plotly-5.21.0-py3-none-any.whl.metadata (7.1 kB)\n",
      "Requirement already satisfied: tenacity>=6.2.0 in c:\\users\\admin\\anaconda3\\envs\\learn-env\\lib\\site-packages (from plotly) (8.2.3)\n",
      "Requirement already satisfied: packaging in c:\\users\\admin\\anaconda3\\envs\\learn-env\\lib\\site-packages (from plotly) (24.0)\n",
      "Downloading plotly-5.21.0-py3-none-any.whl (15.7 MB)\n",
      "   ---------------------------------------- 0.0/15.7 MB ? eta -:--:--\n",
      "   ---------------------------------------- 0.0/15.7 MB 660.6 kB/s eta 0:00:24\n",
      "   ---------------------------------------- 0.0/15.7 MB 660.6 kB/s eta 0:00:24\n",
      "   ---------------------------------------- 0.0/15.7 MB 245.8 kB/s eta 0:01:04\n",
      "   ---------------------------------------- 0.1/15.7 MB 476.3 kB/s eta 0:00:33\n",
      "   ---------------------------------------- 0.1/15.7 MB 547.6 kB/s eta 0:00:29\n",
      "   ---------------------------------------- 0.1/15.7 MB 502.3 kB/s eta 0:00:31\n",
      "    --------------------------------------- 0.2/15.7 MB 623.6 kB/s eta 0:00:25\n",
      "    --------------------------------------- 0.3/15.7 MB 744.2 kB/s eta 0:00:21\n",
      "    --------------------------------------- 0.3/15.7 MB 781.9 kB/s eta 0:00:20\n",
      "   - -------------------------------------- 0.5/15.7 MB 1.0 MB/s eta 0:00:15\n",
      "   - -------------------------------------- 0.5/15.7 MB 1.1 MB/s eta 0:00:15\n",
      "   - -------------------------------------- 0.6/15.7 MB 1.0 MB/s eta 0:00:15\n",
      "   - -------------------------------------- 0.7/15.7 MB 1.2 MB/s eta 0:00:13\n",
      "   -- ------------------------------------- 1.1/15.7 MB 1.6 MB/s eta 0:00:09\n",
      "   -- ------------------------------------- 1.1/15.7 MB 1.6 MB/s eta 0:00:10\n",
      "   --- ------------------------------------ 1.3/15.7 MB 1.7 MB/s eta 0:00:09\n",
      "   ---- ----------------------------------- 1.7/15.7 MB 2.1 MB/s eta 0:00:07\n",
      "   ----- ---------------------------------- 2.3/15.7 MB 2.6 MB/s eta 0:00:06\n",
      "   ------ --------------------------------- 2.6/15.7 MB 2.6 MB/s eta 0:00:05\n",
      "   -------- ------------------------------- 3.3/15.7 MB 3.2 MB/s eta 0:00:04\n",
      "   ---------- ----------------------------- 4.2/15.7 MB 3.7 MB/s eta 0:00:04\n",
      "   ----------- ---------------------------- 4.5/15.7 MB 3.9 MB/s eta 0:00:03\n",
      "   ------------ --------------------------- 5.0/15.7 MB 4.2 MB/s eta 0:00:03\n",
      "   ------------- -------------------------- 5.3/15.7 MB 4.3 MB/s eta 0:00:03\n",
      "   -------------- ------------------------- 5.8/15.7 MB 4.5 MB/s eta 0:00:03\n",
      "   -------------- ------------------------- 5.8/15.7 MB 4.5 MB/s eta 0:00:03\n",
      "   -------------- ------------------------- 5.8/15.7 MB 4.5 MB/s eta 0:00:03\n",
      "   -------------- ------------------------- 5.8/15.7 MB 4.5 MB/s eta 0:00:03\n",
      "   -------------- ------------------------- 5.8/15.7 MB 4.5 MB/s eta 0:00:03\n",
      "   -------------- ------------------------- 5.8/15.7 MB 4.5 MB/s eta 0:00:03\n",
      "   -------------- ------------------------- 5.8/15.7 MB 4.5 MB/s eta 0:00:03\n",
      "   -------------- ------------------------- 5.8/15.7 MB 4.5 MB/s eta 0:00:03\n",
      "   -------------- ------------------------- 5.8/15.7 MB 4.5 MB/s eta 0:00:03\n",
      "   -------------- ------------------------- 5.8/15.7 MB 3.3 MB/s eta 0:00:03\n",
      "   -------------- ------------------------- 5.8/15.7 MB 3.3 MB/s eta 0:00:03\n",
      "   -------------- ------------------------- 5.8/15.7 MB 3.1 MB/s eta 0:00:04\n",
      "   -------------- ------------------------- 5.8/15.7 MB 3.1 MB/s eta 0:00:04\n",
      "   -------------- ------------------------- 5.9/15.7 MB 2.9 MB/s eta 0:00:04\n",
      "   -------------- ------------------------- 5.9/15.7 MB 2.9 MB/s eta 0:00:04\n",
      "   -------------- ------------------------- 5.9/15.7 MB 2.7 MB/s eta 0:00:04\n",
      "   -------------- ------------------------- 5.9/15.7 MB 2.7 MB/s eta 0:00:04\n",
      "   -------------- ------------------------- 5.9/15.7 MB 2.7 MB/s eta 0:00:04\n",
      "   --------------- ------------------------ 5.9/15.7 MB 2.6 MB/s eta 0:00:04\n",
      "   --------------- ------------------------ 5.9/15.7 MB 2.6 MB/s eta 0:00:04\n",
      "   --------------- ------------------------ 5.9/15.7 MB 2.6 MB/s eta 0:00:04\n",
      "   --------------- ------------------------ 5.9/15.7 MB 2.4 MB/s eta 0:00:05\n",
      "   --------------- ------------------------ 5.9/15.7 MB 2.4 MB/s eta 0:00:05\n",
      "   --------------- ------------------------ 6.0/15.7 MB 2.3 MB/s eta 0:00:05\n",
      "   --------------- ------------------------ 6.0/15.7 MB 2.3 MB/s eta 0:00:05\n",
      "   --------------- ------------------------ 6.0/15.7 MB 2.3 MB/s eta 0:00:05\n",
      "   --------------- ------------------------ 6.1/15.7 MB 2.2 MB/s eta 0:00:05\n",
      "   --------------- ------------------------ 6.1/15.7 MB 2.2 MB/s eta 0:00:05\n",
      "   --------------- ------------------------ 6.1/15.7 MB 2.1 MB/s eta 0:00:05\n",
      "   --------------- ------------------------ 6.2/15.7 MB 2.1 MB/s eta 0:00:05\n",
      "   --------------- ------------------------ 6.2/15.7 MB 2.1 MB/s eta 0:00:05\n",
      "   --------------- ------------------------ 6.2/15.7 MB 2.1 MB/s eta 0:00:05\n",
      "   --------------- ------------------------ 6.3/15.7 MB 2.1 MB/s eta 0:00:05\n",
      "   --------------- ------------------------ 6.3/15.7 MB 2.1 MB/s eta 0:00:05\n",
      "   ---------------- ----------------------- 6.3/15.7 MB 2.0 MB/s eta 0:00:05\n",
      "   ---------------- ----------------------- 6.4/15.7 MB 2.0 MB/s eta 0:00:05\n",
      "   ---------------- ----------------------- 6.4/15.7 MB 2.0 MB/s eta 0:00:05\n",
      "   ---------------- ----------------------- 6.4/15.7 MB 2.0 MB/s eta 0:00:05\n",
      "   ---------------- ----------------------- 6.5/15.7 MB 2.0 MB/s eta 0:00:05\n",
      "   ---------------- ----------------------- 6.5/15.7 MB 2.0 MB/s eta 0:00:05\n",
      "   ---------------- ----------------------- 6.6/15.7 MB 1.9 MB/s eta 0:00:05\n",
      "   ---------------- ----------------------- 6.6/15.7 MB 1.9 MB/s eta 0:00:05\n",
      "   ---------------- ----------------------- 6.6/15.7 MB 1.9 MB/s eta 0:00:05\n",
      "   ----------------- ---------------------- 6.8/15.7 MB 1.9 MB/s eta 0:00:05\n",
      "   ----------------- ---------------------- 6.8/15.7 MB 1.9 MB/s eta 0:00:05\n",
      "   ----------------- ---------------------- 6.8/15.7 MB 1.9 MB/s eta 0:00:05\n",
      "   ----------------- ---------------------- 6.9/15.7 MB 1.9 MB/s eta 0:00:05\n",
      "   ----------------- ---------------------- 7.0/15.7 MB 1.9 MB/s eta 0:00:05\n",
      "   ----------------- ---------------------- 7.0/15.7 MB 1.8 MB/s eta 0:00:05\n",
      "   ------------------ --------------------- 7.2/15.7 MB 1.9 MB/s eta 0:00:05\n",
      "   ------------------ --------------------- 7.2/15.7 MB 1.9 MB/s eta 0:00:05\n",
      "   ------------------ --------------------- 7.3/15.7 MB 1.8 MB/s eta 0:00:05\n",
      "   ------------------ --------------------- 7.4/15.7 MB 1.8 MB/s eta 0:00:05\n",
      "   ------------------- -------------------- 7.5/15.7 MB 1.9 MB/s eta 0:00:05\n",
      "   ------------------- -------------------- 7.5/15.7 MB 1.8 MB/s eta 0:00:05\n",
      "   ------------------- -------------------- 7.5/15.7 MB 1.8 MB/s eta 0:00:05\n",
      "   ------------------- -------------------- 7.7/15.7 MB 1.9 MB/s eta 0:00:05\n",
      "   ------------------- -------------------- 7.7/15.7 MB 1.8 MB/s eta 0:00:05\n",
      "   ------------------- -------------------- 7.8/15.7 MB 1.8 MB/s eta 0:00:05\n",
      "   -------------------- ------------------- 8.0/15.7 MB 1.9 MB/s eta 0:00:05\n",
      "   -------------------- ------------------- 8.0/15.7 MB 1.8 MB/s eta 0:00:05\n",
      "   -------------------- ------------------- 8.1/15.7 MB 1.8 MB/s eta 0:00:05\n",
      "   -------------------- ------------------- 8.2/15.7 MB 1.8 MB/s eta 0:00:05\n",
      "   --------------------- ------------------ 8.3/15.7 MB 1.8 MB/s eta 0:00:05\n",
      "   --------------------- ------------------ 8.4/15.7 MB 1.8 MB/s eta 0:00:04\n",
      "   --------------------- ------------------ 8.5/15.7 MB 1.8 MB/s eta 0:00:04\n",
      "   --------------------- ------------------ 8.6/15.7 MB 1.9 MB/s eta 0:00:04\n",
      "   ---------------------- ----------------- 8.7/15.7 MB 1.9 MB/s eta 0:00:04\n",
      "   ---------------------- ----------------- 8.8/15.7 MB 1.9 MB/s eta 0:00:04\n",
      "   ---------------------- ----------------- 9.0/15.7 MB 1.9 MB/s eta 0:00:04\n",
      "   ---------------------- ----------------- 9.0/15.7 MB 1.9 MB/s eta 0:00:04\n",
      "   ----------------------- ---------------- 9.2/15.7 MB 1.9 MB/s eta 0:00:04\n",
      "   ----------------------- ---------------- 9.3/15.7 MB 1.9 MB/s eta 0:00:04\n",
      "   ----------------------- ---------------- 9.4/15.7 MB 1.9 MB/s eta 0:00:04\n",
      "   ------------------------ --------------- 9.6/15.7 MB 1.9 MB/s eta 0:00:04\n",
      "   ------------------------ --------------- 9.7/15.7 MB 1.9 MB/s eta 0:00:04\n",
      "   ------------------------ --------------- 9.8/15.7 MB 1.9 MB/s eta 0:00:04\n",
      "   ------------------------- -------------- 9.9/15.7 MB 1.9 MB/s eta 0:00:04\n",
      "   ------------------------- -------------- 10.0/15.7 MB 1.9 MB/s eta 0:00:03\n",
      "   ------------------------- -------------- 10.1/15.7 MB 1.9 MB/s eta 0:00:03\n",
      "   ------------------------- -------------- 10.1/15.7 MB 1.9 MB/s eta 0:00:03\n",
      "   -------------------------- ------------- 10.5/15.7 MB 2.0 MB/s eta 0:00:03\n",
      "   --------------------------- ------------ 10.9/15.7 MB 2.1 MB/s eta 0:00:03\n",
      "   ---------------------------- ----------- 11.2/15.7 MB 2.1 MB/s eta 0:00:03\n",
      "   ----------------------------- ---------- 11.6/15.7 MB 2.2 MB/s eta 0:00:02\n",
      "   ------------------------------ --------- 12.0/15.7 MB 2.2 MB/s eta 0:00:02\n",
      "   ------------------------------- -------- 12.4/15.7 MB 2.2 MB/s eta 0:00:02\n",
      "   -------------------------------- ------- 12.9/15.7 MB 2.2 MB/s eta 0:00:02\n",
      "   --------------------------------- ------ 13.2/15.7 MB 2.2 MB/s eta 0:00:02\n",
      "   ---------------------------------- ----- 13.6/15.7 MB 2.2 MB/s eta 0:00:01\n",
      "   ----------------------------------- ---- 14.0/15.7 MB 2.2 MB/s eta 0:00:01\n",
      "   ------------------------------------ --- 14.2/15.7 MB 2.2 MB/s eta 0:00:01\n",
      "   ------------------------------------ --- 14.2/15.7 MB 2.2 MB/s eta 0:00:01\n",
      "   ------------------------------------ --- 14.2/15.7 MB 2.2 MB/s eta 0:00:01\n",
      "   ------------------------------------- -- 14.6/15.7 MB 2.1 MB/s eta 0:00:01\n",
      "   ------------------------------------- -- 14.6/15.7 MB 2.1 MB/s eta 0:00:01\n",
      "   ------------------------------------- -- 14.6/15.7 MB 2.1 MB/s eta 0:00:01\n",
      "   ------------------------------------- -- 14.6/15.7 MB 2.1 MB/s eta 0:00:01\n",
      "   ------------------------------------- -- 14.9/15.7 MB 2.1 MB/s eta 0:00:01\n",
      "   ------------------------------------- -- 14.9/15.7 MB 2.1 MB/s eta 0:00:01\n",
      "   -------------------------------------- - 15.0/15.7 MB 2.0 MB/s eta 0:00:01\n",
      "   -------------------------------------- - 15.2/15.7 MB 2.0 MB/s eta 0:00:01\n",
      "   -------------------------------------- - 15.2/15.7 MB 2.0 MB/s eta 0:00:01\n",
      "   ---------------------------------------  15.3/15.7 MB 2.0 MB/s eta 0:00:01\n",
      "   ---------------------------------------  15.4/15.7 MB 2.0 MB/s eta 0:00:01\n",
      "   ---------------------------------------  15.5/15.7 MB 2.0 MB/s eta 0:00:01\n",
      "   ---------------------------------------  15.6/15.7 MB 1.9 MB/s eta 0:00:01\n",
      "   ---------------------------------------  15.7/15.7 MB 1.9 MB/s eta 0:00:01\n",
      "   ---------------------------------------  15.7/15.7 MB 1.9 MB/s eta 0:00:01\n",
      "   ---------------------------------------  15.7/15.7 MB 1.9 MB/s eta 0:00:01\n",
      "   ---------------------------------------  15.7/15.7 MB 1.9 MB/s eta 0:00:01\n",
      "   ---------------------------------------  15.7/15.7 MB 1.9 MB/s eta 0:00:01\n",
      "   ---------------------------------------  15.7/15.7 MB 1.9 MB/s eta 0:00:01\n",
      "   ---------------------------------------  15.7/15.7 MB 1.9 MB/s eta 0:00:01\n",
      "   ---------------------------------------- 15.7/15.7 MB 1.8 MB/s eta 0:00:00\n",
      "Installing collected packages: plotly\n",
      "Successfully installed plotly-5.21.0\n"
     ]
    }
   ],
   "source": [
    "! pip install plotly"
   ]
  },
  {
   "cell_type": "code",
   "execution_count": 113,
   "metadata": {},
   "outputs": [],
   "source": [
    "import pandas as pd\n",
    "import matplotlib.pyplot as plt\n",
    "import seaborn as sns\n",
    "import plotly.express as px"
   ]
  },
  {
   "cell_type": "markdown",
   "metadata": {},
   "source": [
    "## Exploratory Data Analysis"
   ]
  },
  {
   "cell_type": "code",
   "execution_count": 38,
   "metadata": {},
   "outputs": [],
   "source": [
    "# Exploring the various data sets\n",
    "df1 = pd.read_csv(\"diabetes_012_health_indicators_BRFSS2015.csv\")\n",
    "df2 = pd.read_csv(\"diabetes_binary_5050split_health_indicators_BRFSS2015.csv\")\n",
    "df3 = pd.read_csv(\"diabetes_binary_health_indicators_BRFSS2015.csv\")"
   ]
  },
  {
   "cell_type": "markdown",
   "metadata": {},
   "source": [
    "### Exploratory Data Analysis on df1"
   ]
  },
  {
   "cell_type": "code",
   "execution_count": 39,
   "metadata": {},
   "outputs": [
    {
     "data": {
      "text/plain": [
       "(253680, 22)"
      ]
     },
     "execution_count": 39,
     "metadata": {},
     "output_type": "execute_result"
    }
   ],
   "source": [
    "df1.shape\n",
    "\n"
   ]
  },
  {
   "cell_type": "code",
   "execution_count": 40,
   "metadata": {},
   "outputs": [
    {
     "data": {
      "text/plain": [
       "Index(['Diabetes_012', 'HighBP', 'HighChol', 'CholCheck', 'BMI', 'Smoker',\n",
       "       'Stroke', 'HeartDiseaseorAttack', 'PhysActivity', 'Fruits', 'Veggies',\n",
       "       'HvyAlcoholConsump', 'AnyHealthcare', 'NoDocbcCost', 'GenHlth',\n",
       "       'MentHlth', 'PhysHlth', 'DiffWalk', 'Sex', 'Age', 'Education',\n",
       "       'Income'],\n",
       "      dtype='object')"
      ]
     },
     "execution_count": 40,
     "metadata": {},
     "output_type": "execute_result"
    }
   ],
   "source": [
    "df1.columns"
   ]
  },
  {
   "cell_type": "code",
   "execution_count": 76,
   "metadata": {},
   "outputs": [
    {
     "name": "stdout",
     "output_type": "stream",
     "text": [
      "<class 'pandas.core.frame.DataFrame'>\n",
      "Index: 229781 entries, 0 to 253679\n",
      "Data columns (total 22 columns):\n",
      " #   Column                Non-Null Count   Dtype  \n",
      "---  ------                --------------   -----  \n",
      " 0   Diabetes_012          229781 non-null  float64\n",
      " 1   HighBP                229781 non-null  float64\n",
      " 2   HighChol              229781 non-null  float64\n",
      " 3   CholCheck             229781 non-null  float64\n",
      " 4   BMI                   229781 non-null  float64\n",
      " 5   Smoker                229781 non-null  float64\n",
      " 6   Stroke                229781 non-null  float64\n",
      " 7   HeartDiseaseorAttack  229781 non-null  float64\n",
      " 8   PhysActivity          229781 non-null  float64\n",
      " 9   Fruits                229781 non-null  float64\n",
      " 10  Veggies               229781 non-null  float64\n",
      " 11  HvyAlcoholConsump     229781 non-null  float64\n",
      " 12  AnyHealthcare         229781 non-null  float64\n",
      " 13  NoDocbcCost           229781 non-null  float64\n",
      " 14  GenHlth               229781 non-null  float64\n",
      " 15  MentHlth              229781 non-null  float64\n",
      " 16  PhysHlth              229781 non-null  float64\n",
      " 17  DiffWalk              229781 non-null  float64\n",
      " 18  Sex                   229781 non-null  float64\n",
      " 19  Age                   229781 non-null  float64\n",
      " 20  Education             229781 non-null  float64\n",
      " 21  Income                229781 non-null  float64\n",
      "dtypes: float64(22)\n",
      "memory usage: 40.3 MB\n"
     ]
    }
   ],
   "source": [
    "df1.info()"
   ]
  },
  {
   "cell_type": "code",
   "execution_count": 69,
   "metadata": {},
   "outputs": [],
   "source": [
    "duplicated_rows_df1 = df1[df1.duplicated()]"
   ]
  },
  {
   "cell_type": "code",
   "execution_count": 72,
   "metadata": {},
   "outputs": [
    {
     "data": {
      "text/html": [
       "<div>\n",
       "<style scoped>\n",
       "    .dataframe tbody tr th:only-of-type {\n",
       "        vertical-align: middle;\n",
       "    }\n",
       "\n",
       "    .dataframe tbody tr th {\n",
       "        vertical-align: top;\n",
       "    }\n",
       "\n",
       "    .dataframe thead th {\n",
       "        text-align: right;\n",
       "    }\n",
       "</style>\n",
       "<table border=\"1\" class=\"dataframe\">\n",
       "  <thead>\n",
       "    <tr style=\"text-align: right;\">\n",
       "      <th></th>\n",
       "      <th>Diabetes_012</th>\n",
       "      <th>HighBP</th>\n",
       "      <th>HighChol</th>\n",
       "      <th>CholCheck</th>\n",
       "      <th>BMI</th>\n",
       "      <th>Smoker</th>\n",
       "      <th>Stroke</th>\n",
       "      <th>HeartDiseaseorAttack</th>\n",
       "      <th>PhysActivity</th>\n",
       "      <th>Fruits</th>\n",
       "      <th>...</th>\n",
       "      <th>AnyHealthcare</th>\n",
       "      <th>NoDocbcCost</th>\n",
       "      <th>GenHlth</th>\n",
       "      <th>MentHlth</th>\n",
       "      <th>PhysHlth</th>\n",
       "      <th>DiffWalk</th>\n",
       "      <th>Sex</th>\n",
       "      <th>Age</th>\n",
       "      <th>Education</th>\n",
       "      <th>Income</th>\n",
       "    </tr>\n",
       "  </thead>\n",
       "  <tbody>\n",
       "    <tr>\n",
       "      <th>1242</th>\n",
       "      <td>2.0</td>\n",
       "      <td>1.0</td>\n",
       "      <td>1.0</td>\n",
       "      <td>1.0</td>\n",
       "      <td>27.0</td>\n",
       "      <td>1.0</td>\n",
       "      <td>0.0</td>\n",
       "      <td>0.0</td>\n",
       "      <td>0.0</td>\n",
       "      <td>0.0</td>\n",
       "      <td>...</td>\n",
       "      <td>1.0</td>\n",
       "      <td>0.0</td>\n",
       "      <td>5.0</td>\n",
       "      <td>0.0</td>\n",
       "      <td>30.0</td>\n",
       "      <td>1.0</td>\n",
       "      <td>0.0</td>\n",
       "      <td>10.0</td>\n",
       "      <td>4.0</td>\n",
       "      <td>5.0</td>\n",
       "    </tr>\n",
       "    <tr>\n",
       "      <th>1563</th>\n",
       "      <td>0.0</td>\n",
       "      <td>0.0</td>\n",
       "      <td>0.0</td>\n",
       "      <td>1.0</td>\n",
       "      <td>21.0</td>\n",
       "      <td>1.0</td>\n",
       "      <td>0.0</td>\n",
       "      <td>0.0</td>\n",
       "      <td>1.0</td>\n",
       "      <td>1.0</td>\n",
       "      <td>...</td>\n",
       "      <td>1.0</td>\n",
       "      <td>0.0</td>\n",
       "      <td>1.0</td>\n",
       "      <td>0.0</td>\n",
       "      <td>0.0</td>\n",
       "      <td>0.0</td>\n",
       "      <td>0.0</td>\n",
       "      <td>4.0</td>\n",
       "      <td>6.0</td>\n",
       "      <td>8.0</td>\n",
       "    </tr>\n",
       "    <tr>\n",
       "      <th>2700</th>\n",
       "      <td>0.0</td>\n",
       "      <td>0.0</td>\n",
       "      <td>0.0</td>\n",
       "      <td>1.0</td>\n",
       "      <td>32.0</td>\n",
       "      <td>0.0</td>\n",
       "      <td>0.0</td>\n",
       "      <td>0.0</td>\n",
       "      <td>1.0</td>\n",
       "      <td>1.0</td>\n",
       "      <td>...</td>\n",
       "      <td>1.0</td>\n",
       "      <td>0.0</td>\n",
       "      <td>2.0</td>\n",
       "      <td>0.0</td>\n",
       "      <td>0.0</td>\n",
       "      <td>0.0</td>\n",
       "      <td>0.0</td>\n",
       "      <td>5.0</td>\n",
       "      <td>6.0</td>\n",
       "      <td>8.0</td>\n",
       "    </tr>\n",
       "    <tr>\n",
       "      <th>3160</th>\n",
       "      <td>0.0</td>\n",
       "      <td>0.0</td>\n",
       "      <td>0.0</td>\n",
       "      <td>1.0</td>\n",
       "      <td>21.0</td>\n",
       "      <td>0.0</td>\n",
       "      <td>0.0</td>\n",
       "      <td>0.0</td>\n",
       "      <td>1.0</td>\n",
       "      <td>1.0</td>\n",
       "      <td>...</td>\n",
       "      <td>1.0</td>\n",
       "      <td>0.0</td>\n",
       "      <td>1.0</td>\n",
       "      <td>0.0</td>\n",
       "      <td>0.0</td>\n",
       "      <td>0.0</td>\n",
       "      <td>0.0</td>\n",
       "      <td>4.0</td>\n",
       "      <td>6.0</td>\n",
       "      <td>8.0</td>\n",
       "    </tr>\n",
       "    <tr>\n",
       "      <th>3332</th>\n",
       "      <td>0.0</td>\n",
       "      <td>0.0</td>\n",
       "      <td>0.0</td>\n",
       "      <td>1.0</td>\n",
       "      <td>24.0</td>\n",
       "      <td>0.0</td>\n",
       "      <td>0.0</td>\n",
       "      <td>0.0</td>\n",
       "      <td>1.0</td>\n",
       "      <td>1.0</td>\n",
       "      <td>...</td>\n",
       "      <td>1.0</td>\n",
       "      <td>0.0</td>\n",
       "      <td>1.0</td>\n",
       "      <td>0.0</td>\n",
       "      <td>0.0</td>\n",
       "      <td>0.0</td>\n",
       "      <td>1.0</td>\n",
       "      <td>9.0</td>\n",
       "      <td>6.0</td>\n",
       "      <td>8.0</td>\n",
       "    </tr>\n",
       "    <tr>\n",
       "      <th>...</th>\n",
       "      <td>...</td>\n",
       "      <td>...</td>\n",
       "      <td>...</td>\n",
       "      <td>...</td>\n",
       "      <td>...</td>\n",
       "      <td>...</td>\n",
       "      <td>...</td>\n",
       "      <td>...</td>\n",
       "      <td>...</td>\n",
       "      <td>...</td>\n",
       "      <td>...</td>\n",
       "      <td>...</td>\n",
       "      <td>...</td>\n",
       "      <td>...</td>\n",
       "      <td>...</td>\n",
       "      <td>...</td>\n",
       "      <td>...</td>\n",
       "      <td>...</td>\n",
       "      <td>...</td>\n",
       "      <td>...</td>\n",
       "      <td>...</td>\n",
       "    </tr>\n",
       "    <tr>\n",
       "      <th>253492</th>\n",
       "      <td>2.0</td>\n",
       "      <td>1.0</td>\n",
       "      <td>1.0</td>\n",
       "      <td>1.0</td>\n",
       "      <td>33.0</td>\n",
       "      <td>0.0</td>\n",
       "      <td>0.0</td>\n",
       "      <td>0.0</td>\n",
       "      <td>1.0</td>\n",
       "      <td>1.0</td>\n",
       "      <td>...</td>\n",
       "      <td>1.0</td>\n",
       "      <td>0.0</td>\n",
       "      <td>3.0</td>\n",
       "      <td>0.0</td>\n",
       "      <td>0.0</td>\n",
       "      <td>0.0</td>\n",
       "      <td>1.0</td>\n",
       "      <td>9.0</td>\n",
       "      <td>6.0</td>\n",
       "      <td>6.0</td>\n",
       "    </tr>\n",
       "    <tr>\n",
       "      <th>253550</th>\n",
       "      <td>0.0</td>\n",
       "      <td>0.0</td>\n",
       "      <td>0.0</td>\n",
       "      <td>1.0</td>\n",
       "      <td>25.0</td>\n",
       "      <td>0.0</td>\n",
       "      <td>0.0</td>\n",
       "      <td>0.0</td>\n",
       "      <td>1.0</td>\n",
       "      <td>1.0</td>\n",
       "      <td>...</td>\n",
       "      <td>1.0</td>\n",
       "      <td>0.0</td>\n",
       "      <td>1.0</td>\n",
       "      <td>0.0</td>\n",
       "      <td>0.0</td>\n",
       "      <td>0.0</td>\n",
       "      <td>0.0</td>\n",
       "      <td>7.0</td>\n",
       "      <td>6.0</td>\n",
       "      <td>8.0</td>\n",
       "    </tr>\n",
       "    <tr>\n",
       "      <th>253563</th>\n",
       "      <td>0.0</td>\n",
       "      <td>0.0</td>\n",
       "      <td>1.0</td>\n",
       "      <td>1.0</td>\n",
       "      <td>24.0</td>\n",
       "      <td>1.0</td>\n",
       "      <td>0.0</td>\n",
       "      <td>0.0</td>\n",
       "      <td>1.0</td>\n",
       "      <td>1.0</td>\n",
       "      <td>...</td>\n",
       "      <td>1.0</td>\n",
       "      <td>0.0</td>\n",
       "      <td>2.0</td>\n",
       "      <td>0.0</td>\n",
       "      <td>0.0</td>\n",
       "      <td>0.0</td>\n",
       "      <td>1.0</td>\n",
       "      <td>8.0</td>\n",
       "      <td>6.0</td>\n",
       "      <td>8.0</td>\n",
       "    </tr>\n",
       "    <tr>\n",
       "      <th>253597</th>\n",
       "      <td>0.0</td>\n",
       "      <td>0.0</td>\n",
       "      <td>0.0</td>\n",
       "      <td>1.0</td>\n",
       "      <td>24.0</td>\n",
       "      <td>0.0</td>\n",
       "      <td>0.0</td>\n",
       "      <td>0.0</td>\n",
       "      <td>1.0</td>\n",
       "      <td>1.0</td>\n",
       "      <td>...</td>\n",
       "      <td>1.0</td>\n",
       "      <td>0.0</td>\n",
       "      <td>2.0</td>\n",
       "      <td>0.0</td>\n",
       "      <td>0.0</td>\n",
       "      <td>0.0</td>\n",
       "      <td>0.0</td>\n",
       "      <td>5.0</td>\n",
       "      <td>6.0</td>\n",
       "      <td>8.0</td>\n",
       "    </tr>\n",
       "    <tr>\n",
       "      <th>253638</th>\n",
       "      <td>0.0</td>\n",
       "      <td>0.0</td>\n",
       "      <td>0.0</td>\n",
       "      <td>1.0</td>\n",
       "      <td>24.0</td>\n",
       "      <td>0.0</td>\n",
       "      <td>0.0</td>\n",
       "      <td>0.0</td>\n",
       "      <td>1.0</td>\n",
       "      <td>1.0</td>\n",
       "      <td>...</td>\n",
       "      <td>1.0</td>\n",
       "      <td>0.0</td>\n",
       "      <td>2.0</td>\n",
       "      <td>0.0</td>\n",
       "      <td>0.0</td>\n",
       "      <td>0.0</td>\n",
       "      <td>1.0</td>\n",
       "      <td>1.0</td>\n",
       "      <td>4.0</td>\n",
       "      <td>6.0</td>\n",
       "    </tr>\n",
       "  </tbody>\n",
       "</table>\n",
       "<p>23899 rows × 22 columns</p>\n",
       "</div>"
      ],
      "text/plain": [
       "        Diabetes_012  HighBP  HighChol  CholCheck   BMI  Smoker  Stroke  \\\n",
       "1242             2.0     1.0       1.0        1.0  27.0     1.0     0.0   \n",
       "1563             0.0     0.0       0.0        1.0  21.0     1.0     0.0   \n",
       "2700             0.0     0.0       0.0        1.0  32.0     0.0     0.0   \n",
       "3160             0.0     0.0       0.0        1.0  21.0     0.0     0.0   \n",
       "3332             0.0     0.0       0.0        1.0  24.0     0.0     0.0   \n",
       "...              ...     ...       ...        ...   ...     ...     ...   \n",
       "253492           2.0     1.0       1.0        1.0  33.0     0.0     0.0   \n",
       "253550           0.0     0.0       0.0        1.0  25.0     0.0     0.0   \n",
       "253563           0.0     0.0       1.0        1.0  24.0     1.0     0.0   \n",
       "253597           0.0     0.0       0.0        1.0  24.0     0.0     0.0   \n",
       "253638           0.0     0.0       0.0        1.0  24.0     0.0     0.0   \n",
       "\n",
       "        HeartDiseaseorAttack  PhysActivity  Fruits  ...  AnyHealthcare  \\\n",
       "1242                     0.0           0.0     0.0  ...            1.0   \n",
       "1563                     0.0           1.0     1.0  ...            1.0   \n",
       "2700                     0.0           1.0     1.0  ...            1.0   \n",
       "3160                     0.0           1.0     1.0  ...            1.0   \n",
       "3332                     0.0           1.0     1.0  ...            1.0   \n",
       "...                      ...           ...     ...  ...            ...   \n",
       "253492                   0.0           1.0     1.0  ...            1.0   \n",
       "253550                   0.0           1.0     1.0  ...            1.0   \n",
       "253563                   0.0           1.0     1.0  ...            1.0   \n",
       "253597                   0.0           1.0     1.0  ...            1.0   \n",
       "253638                   0.0           1.0     1.0  ...            1.0   \n",
       "\n",
       "        NoDocbcCost  GenHlth  MentHlth  PhysHlth  DiffWalk  Sex   Age  \\\n",
       "1242            0.0      5.0       0.0      30.0       1.0  0.0  10.0   \n",
       "1563            0.0      1.0       0.0       0.0       0.0  0.0   4.0   \n",
       "2700            0.0      2.0       0.0       0.0       0.0  0.0   5.0   \n",
       "3160            0.0      1.0       0.0       0.0       0.0  0.0   4.0   \n",
       "3332            0.0      1.0       0.0       0.0       0.0  1.0   9.0   \n",
       "...             ...      ...       ...       ...       ...  ...   ...   \n",
       "253492          0.0      3.0       0.0       0.0       0.0  1.0   9.0   \n",
       "253550          0.0      1.0       0.0       0.0       0.0  0.0   7.0   \n",
       "253563          0.0      2.0       0.0       0.0       0.0  1.0   8.0   \n",
       "253597          0.0      2.0       0.0       0.0       0.0  0.0   5.0   \n",
       "253638          0.0      2.0       0.0       0.0       0.0  1.0   1.0   \n",
       "\n",
       "        Education  Income  \n",
       "1242          4.0     5.0  \n",
       "1563          6.0     8.0  \n",
       "2700          6.0     8.0  \n",
       "3160          6.0     8.0  \n",
       "3332          6.0     8.0  \n",
       "...           ...     ...  \n",
       "253492        6.0     6.0  \n",
       "253550        6.0     8.0  \n",
       "253563        6.0     8.0  \n",
       "253597        6.0     8.0  \n",
       "253638        4.0     6.0  \n",
       "\n",
       "[23899 rows x 22 columns]"
      ]
     },
     "execution_count": 72,
     "metadata": {},
     "output_type": "execute_result"
    }
   ],
   "source": [
    "duplicated_rows_df1"
   ]
  },
  {
   "cell_type": "code",
   "execution_count": 73,
   "metadata": {},
   "outputs": [],
   "source": [
    "df1.drop_duplicates(inplace=True)"
   ]
  },
  {
   "cell_type": "code",
   "execution_count": 74,
   "metadata": {},
   "outputs": [
    {
     "data": {
      "text/plain": [
       "(229781, 22)"
      ]
     },
     "execution_count": 74,
     "metadata": {},
     "output_type": "execute_result"
    }
   ],
   "source": [
    "df1.shape"
   ]
  },
  {
   "cell_type": "code",
   "execution_count": 80,
   "metadata": {},
   "outputs": [
    {
     "data": {
      "text/html": [
       "<div>\n",
       "<style scoped>\n",
       "    .dataframe tbody tr th:only-of-type {\n",
       "        vertical-align: middle;\n",
       "    }\n",
       "\n",
       "    .dataframe tbody tr th {\n",
       "        vertical-align: top;\n",
       "    }\n",
       "\n",
       "    .dataframe thead th {\n",
       "        text-align: right;\n",
       "    }\n",
       "</style>\n",
       "<table border=\"1\" class=\"dataframe\">\n",
       "  <thead>\n",
       "    <tr style=\"text-align: right;\">\n",
       "      <th></th>\n",
       "      <th>count</th>\n",
       "      <th>mean</th>\n",
       "      <th>std</th>\n",
       "      <th>min</th>\n",
       "      <th>25%</th>\n",
       "      <th>50%</th>\n",
       "      <th>75%</th>\n",
       "      <th>max</th>\n",
       "    </tr>\n",
       "  </thead>\n",
       "  <tbody>\n",
       "    <tr>\n",
       "      <th>Diabetes_012</th>\n",
       "      <td>229781.0</td>\n",
       "      <td>0.325627</td>\n",
       "      <td>0.724623</td>\n",
       "      <td>0.0</td>\n",
       "      <td>0.0</td>\n",
       "      <td>0.0</td>\n",
       "      <td>0.0</td>\n",
       "      <td>2.0</td>\n",
       "    </tr>\n",
       "    <tr>\n",
       "      <th>HighBP</th>\n",
       "      <td>229781.0</td>\n",
       "      <td>0.454441</td>\n",
       "      <td>0.497921</td>\n",
       "      <td>0.0</td>\n",
       "      <td>0.0</td>\n",
       "      <td>0.0</td>\n",
       "      <td>1.0</td>\n",
       "      <td>1.0</td>\n",
       "    </tr>\n",
       "    <tr>\n",
       "      <th>HighChol</th>\n",
       "      <td>229781.0</td>\n",
       "      <td>0.441760</td>\n",
       "      <td>0.496598</td>\n",
       "      <td>0.0</td>\n",
       "      <td>0.0</td>\n",
       "      <td>0.0</td>\n",
       "      <td>1.0</td>\n",
       "      <td>1.0</td>\n",
       "    </tr>\n",
       "    <tr>\n",
       "      <th>CholCheck</th>\n",
       "      <td>229781.0</td>\n",
       "      <td>0.959535</td>\n",
       "      <td>0.197047</td>\n",
       "      <td>0.0</td>\n",
       "      <td>1.0</td>\n",
       "      <td>1.0</td>\n",
       "      <td>1.0</td>\n",
       "      <td>1.0</td>\n",
       "    </tr>\n",
       "    <tr>\n",
       "      <th>BMI</th>\n",
       "      <td>229781.0</td>\n",
       "      <td>28.685670</td>\n",
       "      <td>6.786360</td>\n",
       "      <td>12.0</td>\n",
       "      <td>24.0</td>\n",
       "      <td>27.0</td>\n",
       "      <td>32.0</td>\n",
       "      <td>98.0</td>\n",
       "    </tr>\n",
       "    <tr>\n",
       "      <th>Smoker</th>\n",
       "      <td>229781.0</td>\n",
       "      <td>0.465661</td>\n",
       "      <td>0.498821</td>\n",
       "      <td>0.0</td>\n",
       "      <td>0.0</td>\n",
       "      <td>0.0</td>\n",
       "      <td>1.0</td>\n",
       "      <td>1.0</td>\n",
       "    </tr>\n",
       "    <tr>\n",
       "      <th>Stroke</th>\n",
       "      <td>229781.0</td>\n",
       "      <td>0.044756</td>\n",
       "      <td>0.206767</td>\n",
       "      <td>0.0</td>\n",
       "      <td>0.0</td>\n",
       "      <td>0.0</td>\n",
       "      <td>0.0</td>\n",
       "      <td>1.0</td>\n",
       "    </tr>\n",
       "    <tr>\n",
       "      <th>HeartDiseaseorAttack</th>\n",
       "      <td>229781.0</td>\n",
       "      <td>0.103216</td>\n",
       "      <td>0.304241</td>\n",
       "      <td>0.0</td>\n",
       "      <td>0.0</td>\n",
       "      <td>0.0</td>\n",
       "      <td>0.0</td>\n",
       "      <td>1.0</td>\n",
       "    </tr>\n",
       "    <tr>\n",
       "      <th>PhysActivity</th>\n",
       "      <td>229781.0</td>\n",
       "      <td>0.733355</td>\n",
       "      <td>0.442206</td>\n",
       "      <td>0.0</td>\n",
       "      <td>0.0</td>\n",
       "      <td>1.0</td>\n",
       "      <td>1.0</td>\n",
       "      <td>1.0</td>\n",
       "    </tr>\n",
       "    <tr>\n",
       "      <th>Fruits</th>\n",
       "      <td>229781.0</td>\n",
       "      <td>0.612966</td>\n",
       "      <td>0.487073</td>\n",
       "      <td>0.0</td>\n",
       "      <td>0.0</td>\n",
       "      <td>1.0</td>\n",
       "      <td>1.0</td>\n",
       "      <td>1.0</td>\n",
       "    </tr>\n",
       "    <tr>\n",
       "      <th>Veggies</th>\n",
       "      <td>229781.0</td>\n",
       "      <td>0.794813</td>\n",
       "      <td>0.403839</td>\n",
       "      <td>0.0</td>\n",
       "      <td>1.0</td>\n",
       "      <td>1.0</td>\n",
       "      <td>1.0</td>\n",
       "      <td>1.0</td>\n",
       "    </tr>\n",
       "    <tr>\n",
       "      <th>HvyAlcoholConsump</th>\n",
       "      <td>229781.0</td>\n",
       "      <td>0.060710</td>\n",
       "      <td>0.238798</td>\n",
       "      <td>0.0</td>\n",
       "      <td>0.0</td>\n",
       "      <td>0.0</td>\n",
       "      <td>0.0</td>\n",
       "      <td>1.0</td>\n",
       "    </tr>\n",
       "    <tr>\n",
       "      <th>AnyHealthcare</th>\n",
       "      <td>229781.0</td>\n",
       "      <td>0.946075</td>\n",
       "      <td>0.225871</td>\n",
       "      <td>0.0</td>\n",
       "      <td>1.0</td>\n",
       "      <td>1.0</td>\n",
       "      <td>1.0</td>\n",
       "      <td>1.0</td>\n",
       "    </tr>\n",
       "    <tr>\n",
       "      <th>NoDocbcCost</th>\n",
       "      <td>229781.0</td>\n",
       "      <td>0.092810</td>\n",
       "      <td>0.290167</td>\n",
       "      <td>0.0</td>\n",
       "      <td>0.0</td>\n",
       "      <td>0.0</td>\n",
       "      <td>0.0</td>\n",
       "      <td>1.0</td>\n",
       "    </tr>\n",
       "    <tr>\n",
       "      <th>GenHlth</th>\n",
       "      <td>229781.0</td>\n",
       "      <td>2.601151</td>\n",
       "      <td>1.064685</td>\n",
       "      <td>1.0</td>\n",
       "      <td>2.0</td>\n",
       "      <td>3.0</td>\n",
       "      <td>3.0</td>\n",
       "      <td>5.0</td>\n",
       "    </tr>\n",
       "    <tr>\n",
       "      <th>MentHlth</th>\n",
       "      <td>229781.0</td>\n",
       "      <td>3.505373</td>\n",
       "      <td>7.713725</td>\n",
       "      <td>0.0</td>\n",
       "      <td>0.0</td>\n",
       "      <td>0.0</td>\n",
       "      <td>2.0</td>\n",
       "      <td>30.0</td>\n",
       "    </tr>\n",
       "    <tr>\n",
       "      <th>PhysHlth</th>\n",
       "      <td>229781.0</td>\n",
       "      <td>4.675178</td>\n",
       "      <td>9.046568</td>\n",
       "      <td>0.0</td>\n",
       "      <td>0.0</td>\n",
       "      <td>0.0</td>\n",
       "      <td>4.0</td>\n",
       "      <td>30.0</td>\n",
       "    </tr>\n",
       "    <tr>\n",
       "      <th>DiffWalk</th>\n",
       "      <td>229781.0</td>\n",
       "      <td>0.185507</td>\n",
       "      <td>0.388709</td>\n",
       "      <td>0.0</td>\n",
       "      <td>0.0</td>\n",
       "      <td>0.0</td>\n",
       "      <td>0.0</td>\n",
       "      <td>1.0</td>\n",
       "    </tr>\n",
       "    <tr>\n",
       "      <th>Sex</th>\n",
       "      <td>229781.0</td>\n",
       "      <td>0.439231</td>\n",
       "      <td>0.496295</td>\n",
       "      <td>0.0</td>\n",
       "      <td>0.0</td>\n",
       "      <td>0.0</td>\n",
       "      <td>1.0</td>\n",
       "      <td>1.0</td>\n",
       "    </tr>\n",
       "    <tr>\n",
       "      <th>Age</th>\n",
       "      <td>229781.0</td>\n",
       "      <td>8.086582</td>\n",
       "      <td>3.093809</td>\n",
       "      <td>1.0</td>\n",
       "      <td>6.0</td>\n",
       "      <td>8.0</td>\n",
       "      <td>10.0</td>\n",
       "      <td>13.0</td>\n",
       "    </tr>\n",
       "    <tr>\n",
       "      <th>Education</th>\n",
       "      <td>229781.0</td>\n",
       "      <td>4.980568</td>\n",
       "      <td>0.992895</td>\n",
       "      <td>1.0</td>\n",
       "      <td>4.0</td>\n",
       "      <td>5.0</td>\n",
       "      <td>6.0</td>\n",
       "      <td>6.0</td>\n",
       "    </tr>\n",
       "    <tr>\n",
       "      <th>Income</th>\n",
       "      <td>229781.0</td>\n",
       "      <td>5.890383</td>\n",
       "      <td>2.092477</td>\n",
       "      <td>1.0</td>\n",
       "      <td>5.0</td>\n",
       "      <td>6.0</td>\n",
       "      <td>8.0</td>\n",
       "      <td>8.0</td>\n",
       "    </tr>\n",
       "  </tbody>\n",
       "</table>\n",
       "</div>"
      ],
      "text/plain": [
       "                         count       mean       std   min   25%   50%   75%  \\\n",
       "Diabetes_012          229781.0   0.325627  0.724623   0.0   0.0   0.0   0.0   \n",
       "HighBP                229781.0   0.454441  0.497921   0.0   0.0   0.0   1.0   \n",
       "HighChol              229781.0   0.441760  0.496598   0.0   0.0   0.0   1.0   \n",
       "CholCheck             229781.0   0.959535  0.197047   0.0   1.0   1.0   1.0   \n",
       "BMI                   229781.0  28.685670  6.786360  12.0  24.0  27.0  32.0   \n",
       "Smoker                229781.0   0.465661  0.498821   0.0   0.0   0.0   1.0   \n",
       "Stroke                229781.0   0.044756  0.206767   0.0   0.0   0.0   0.0   \n",
       "HeartDiseaseorAttack  229781.0   0.103216  0.304241   0.0   0.0   0.0   0.0   \n",
       "PhysActivity          229781.0   0.733355  0.442206   0.0   0.0   1.0   1.0   \n",
       "Fruits                229781.0   0.612966  0.487073   0.0   0.0   1.0   1.0   \n",
       "Veggies               229781.0   0.794813  0.403839   0.0   1.0   1.0   1.0   \n",
       "HvyAlcoholConsump     229781.0   0.060710  0.238798   0.0   0.0   0.0   0.0   \n",
       "AnyHealthcare         229781.0   0.946075  0.225871   0.0   1.0   1.0   1.0   \n",
       "NoDocbcCost           229781.0   0.092810  0.290167   0.0   0.0   0.0   0.0   \n",
       "GenHlth               229781.0   2.601151  1.064685   1.0   2.0   3.0   3.0   \n",
       "MentHlth              229781.0   3.505373  7.713725   0.0   0.0   0.0   2.0   \n",
       "PhysHlth              229781.0   4.675178  9.046568   0.0   0.0   0.0   4.0   \n",
       "DiffWalk              229781.0   0.185507  0.388709   0.0   0.0   0.0   0.0   \n",
       "Sex                   229781.0   0.439231  0.496295   0.0   0.0   0.0   1.0   \n",
       "Age                   229781.0   8.086582  3.093809   1.0   6.0   8.0  10.0   \n",
       "Education             229781.0   4.980568  0.992895   1.0   4.0   5.0   6.0   \n",
       "Income                229781.0   5.890383  2.092477   1.0   5.0   6.0   8.0   \n",
       "\n",
       "                       max  \n",
       "Diabetes_012           2.0  \n",
       "HighBP                 1.0  \n",
       "HighChol               1.0  \n",
       "CholCheck              1.0  \n",
       "BMI                   98.0  \n",
       "Smoker                 1.0  \n",
       "Stroke                 1.0  \n",
       "HeartDiseaseorAttack   1.0  \n",
       "PhysActivity           1.0  \n",
       "Fruits                 1.0  \n",
       "Veggies                1.0  \n",
       "HvyAlcoholConsump      1.0  \n",
       "AnyHealthcare          1.0  \n",
       "NoDocbcCost            1.0  \n",
       "GenHlth                5.0  \n",
       "MentHlth              30.0  \n",
       "PhysHlth              30.0  \n",
       "DiffWalk               1.0  \n",
       "Sex                    1.0  \n",
       "Age                   13.0  \n",
       "Education              6.0  \n",
       "Income                 8.0  "
      ]
     },
     "execution_count": 80,
     "metadata": {},
     "output_type": "execute_result"
    }
   ],
   "source": [
    "df1.describe().T"
   ]
  },
  {
   "cell_type": "code",
   "execution_count": 81,
   "metadata": {},
   "outputs": [
    {
     "data": {
      "text/plain": [
       "Diabetes_012            0\n",
       "HighBP                  0\n",
       "HighChol                0\n",
       "CholCheck               0\n",
       "BMI                     0\n",
       "Smoker                  0\n",
       "Stroke                  0\n",
       "HeartDiseaseorAttack    0\n",
       "PhysActivity            0\n",
       "Fruits                  0\n",
       "Veggies                 0\n",
       "HvyAlcoholConsump       0\n",
       "AnyHealthcare           0\n",
       "NoDocbcCost             0\n",
       "GenHlth                 0\n",
       "MentHlth                0\n",
       "PhysHlth                0\n",
       "DiffWalk                0\n",
       "Sex                     0\n",
       "Age                     0\n",
       "Education               0\n",
       "Income                  0\n",
       "dtype: int64"
      ]
     },
     "execution_count": 81,
     "metadata": {},
     "output_type": "execute_result"
    }
   ],
   "source": [
    "df1.isnull().sum()"
   ]
  },
  {
   "cell_type": "code",
   "execution_count": 79,
   "metadata": {},
   "outputs": [
    {
     "data": {
      "text/plain": [
       "Diabetes_012\n",
       "0.0    190055\n",
       "2.0     35097\n",
       "1.0      4629\n",
       "Name: count, dtype: int64"
      ]
     },
     "execution_count": 79,
     "metadata": {},
     "output_type": "execute_result"
    }
   ],
   "source": [
    "Diabetes_012_count = df1[\"Diabetes_012\"].value_counts()\n",
    "Diabetes_012_count"
   ]
  },
  {
   "cell_type": "code",
   "execution_count": 77,
   "metadata": {},
   "outputs": [
    {
     "data": {
      "image/png": "[encoded data removed]",
      "text/plain": [
       "<Figure size 800x600 with 1 Axes>"
      ]
     },
     "metadata": {},
     "output_type": "display_data"
    }
   ],
   "source": [
    "# Plotting bar plot\n",
    "plt.figure(figsize=(8, 6))\n",
    "df1['Diabetes_012'].value_counts().plot(kind='bar', color='skyblue', edgecolor='black', alpha=0.7)\n",
    "plt.xlabel('Diabetes_binary')\n",
    "plt.ylabel('Frequency')\n",
    "plt.title('Distribution of Diabetes_binary')\n",
    "plt.xticks(rotation=0)\n",
    "plt.grid(True)\n",
    "plt.show()"
   ]
  },
  {
   "cell_type": "code",
   "execution_count": 82,
   "metadata": {},
   "outputs": [
    {
     "data": {
      "text/plain": [
       "Text(0.5, 1.0, 'correlation of feature')"
      ]
     },
     "execution_count": 82,
     "metadata": {},
     "output_type": "execute_result"
    },
    {
     "data": {
      "image/png": "[encoded data removed]",
      "text/plain": [
       "<Figure size 2000x1000 with 2 Axes>"
      ]
     },
     "metadata": {},
     "output_type": "display_data"
    }
   ],
   "source": [
    "plt.figure(figsize = (20,10))\n",
    "sns.heatmap(df1.corr(),annot=True , cmap ='YlOrRd' )\n",
    "plt.title(\"correlation of feature\")"
   ]
  },
  {
   "cell_type": "code",
   "execution_count": 84,
   "metadata": {},
   "outputs": [
    {
     "data": {
      "text/plain": [
       "Diabetes_012            1.000000\n",
       "HighBP                  0.261976\n",
       "HighChol                0.203327\n",
       "CholCheck               0.075701\n",
       "BMI                     0.212027\n",
       "Smoker                  0.046774\n",
       "Stroke                  0.100276\n",
       "HeartDiseaseorAttack    0.170816\n",
       "PhysActivity            0.103408\n",
       "Fruits                  0.025462\n",
       "Veggies                 0.043446\n",
       "HvyAlcoholConsump       0.067164\n",
       "AnyHealthcare           0.024911\n",
       "NoDocbcCost             0.023568\n",
       "GenHlth                 0.284881\n",
       "MentHlth                0.057698\n",
       "PhysHlth                0.160485\n",
       "DiffWalk                0.210638\n",
       "Sex                     0.032243\n",
       "Age                     0.184642\n",
       "Education               0.107742\n",
       "Income                  0.147102\n",
       "Name: Diabetes_012, dtype: float64"
      ]
     },
     "execution_count": 84,
     "metadata": {},
     "output_type": "execute_result"
    }
   ],
   "source": [
    "#Correlation with output variable\n",
    "cor = df1.corr()\n",
    "cor_target = abs(cor[\"Diabetes_012\"])\n",
    "cor_target "
   ]
  },
  {
   "cell_type": "code",
   "execution_count": 85,
   "metadata": {},
   "outputs": [
    {
     "data": {
      "text/plain": [
       "Diabetes_012    1.000000\n",
       "HighBP          0.261976\n",
       "HighChol        0.203327\n",
       "BMI             0.212027\n",
       "GenHlth         0.284881\n",
       "DiffWalk        0.210638\n",
       "Name: Diabetes_012, dtype: float64"
      ]
     },
     "execution_count": 85,
     "metadata": {},
     "output_type": "execute_result"
    }
   ],
   "source": [
    "relevant_features = cor_target[cor_target>0.2]\n",
    "relevant_features"
   ]
  },
  {
   "cell_type": "code",
   "execution_count": 83,
   "metadata": {},
   "outputs": [
    {
     "data": {
      "image/png": "[encoded data removed]",
      "text/plain": [
       "<Figure size 2000x800 with 1 Axes>"
      ]
     },
     "metadata": {},
     "output_type": "display_data"
    }
   ],
   "source": [
    "df1.drop('Diabetes_012', axis=1).corrwith(df1.Diabetes_012).plot(kind='bar', grid=True, figsize=(20, 8)\n",
    ", title=\"Correlation with Diabetes_012\",color=\"Orange\");"
   ]
  },
  {
   "cell_type": "markdown",
   "metadata": {},
   "source": [
    "## Distribution of highly correlated features"
   ]
  },
  {
   "cell_type": "markdown",
   "metadata": {},
   "source": [
    "### High Blood Pressure"
   ]
  },
  {
   "cell_type": "code",
   "execution_count": 86,
   "metadata": {},
   "outputs": [
    {
     "data": {
      "image/png": "[encoded data removed]",
      "text/plain": [
       "<Figure size 800x600 with 1 Axes>"
      ]
     },
     "metadata": {},
     "output_type": "display_data"
    }
   ],
   "source": [
    "# Plotting bar plot\n",
    "plt.figure(figsize=(8, 6))\n",
    "df1['HighBP'].value_counts().plot(kind='bar', color='blue', edgecolor='black', alpha=0.7)\n",
    "plt.xlabel('HighBP')\n",
    "plt.ylabel('Frequency')\n",
    "plt.title('Distribution of High Blood Pressure')\n",
    "plt.xticks(rotation=0)\n",
    "plt.grid(True)\n",
    "plt.show()"
   ]
  },
  {
   "cell_type": "code",
   "execution_count": 88,
   "metadata": {},
   "outputs": [
    {
     "data": {
      "text/html": [
       "<div>\n",
       "<style scoped>\n",
       "    .dataframe tbody tr th:only-of-type {\n",
       "        vertical-align: middle;\n",
       "    }\n",
       "\n",
       "    .dataframe tbody tr th {\n",
       "        vertical-align: top;\n",
       "    }\n",
       "\n",
       "    .dataframe thead th {\n",
       "        text-align: right;\n",
       "    }\n",
       "</style>\n",
       "<table border=\"1\" class=\"dataframe\">\n",
       "  <thead>\n",
       "    <tr style=\"text-align: right;\">\n",
       "      <th>Diabetes_012</th>\n",
       "      <th>0.0</th>\n",
       "      <th>1.0</th>\n",
       "      <th>2.0</th>\n",
       "    </tr>\n",
       "    <tr>\n",
       "      <th>HighBP</th>\n",
       "      <th></th>\n",
       "      <th></th>\n",
       "      <th></th>\n",
       "    </tr>\n",
       "  </thead>\n",
       "  <tbody>\n",
       "    <tr>\n",
       "      <th>0.0</th>\n",
       "      <td>114950</td>\n",
       "      <td>1717</td>\n",
       "      <td>8692</td>\n",
       "    </tr>\n",
       "    <tr>\n",
       "      <th>1.0</th>\n",
       "      <td>75105</td>\n",
       "      <td>2912</td>\n",
       "      <td>26405</td>\n",
       "    </tr>\n",
       "  </tbody>\n",
       "</table>\n",
       "</div>"
      ],
      "text/plain": [
       "Diabetes_012     0.0   1.0    2.0\n",
       "HighBP                           \n",
       "0.0           114950  1717   8692\n",
       "1.0            75105  2912  26405"
      ]
     },
     "execution_count": 88,
     "metadata": {},
     "output_type": "execute_result"
    }
   ],
   "source": [
    "pd.crosstab(df1.HighBP ,df1.Diabetes_012)"
   ]
  },
  {
   "cell_type": "code",
   "execution_count": 90,
   "metadata": {},
   "outputs": [
    {
     "data": {
      "image/png": "[encoded data removed]",
      "text/plain": [
       "<Figure size 800x600 with 1 Axes>"
      ]
     },
     "metadata": {},
     "output_type": "display_data"
    }
   ],
   "source": [
    "pd.crosstab(df1.HighBP,df1.Diabetes_012).plot(kind=\"bar\",figsize=(8,6))\n",
    "\n",
    "plt.title('Diabetes Disease Frequency for HighBP')\n",
    "plt.xlabel(\"HighBP\")\n",
    "plt.ylabel('Frequency')\n",
    "plt.show()"
   ]
  },
  {
   "cell_type": "markdown",
   "metadata": {},
   "source": [
    "### High Cholestorol"
   ]
  },
  {
   "cell_type": "code",
   "execution_count": 91,
   "metadata": {},
   "outputs": [
    {
     "data": {
      "image/png": "[encoded data removed]",
      "text/plain": [
       "<Figure size 800x600 with 1 Axes>"
      ]
     },
     "metadata": {},
     "output_type": "display_data"
    }
   ],
   "source": [
    "# Plotting bar plot\n",
    "plt.figure(figsize=(8, 6))\n",
    "df1['HighChol'].value_counts().plot(kind='bar', color='blue', edgecolor='black', alpha=0.7)\n",
    "plt.xlabel('HighChol')\n",
    "plt.ylabel('Frequency')\n",
    "plt.title('Distribution of High Cholestorol')\n",
    "plt.xticks(rotation=0)\n",
    "plt.grid(True)\n",
    "plt.show()"
   ]
  },
  {
   "cell_type": "code",
   "execution_count": 92,
   "metadata": {},
   "outputs": [
    {
     "data": {
      "text/html": [
       "<div>\n",
       "<style scoped>\n",
       "    .dataframe tbody tr th:only-of-type {\n",
       "        vertical-align: middle;\n",
       "    }\n",
       "\n",
       "    .dataframe tbody tr th {\n",
       "        vertical-align: top;\n",
       "    }\n",
       "\n",
       "    .dataframe thead th {\n",
       "        text-align: right;\n",
       "    }\n",
       "</style>\n",
       "<table border=\"1\" class=\"dataframe\">\n",
       "  <thead>\n",
       "    <tr style=\"text-align: right;\">\n",
       "      <th>Diabetes_012</th>\n",
       "      <th>0.0</th>\n",
       "      <th>1.0</th>\n",
       "      <th>2.0</th>\n",
       "    </tr>\n",
       "    <tr>\n",
       "      <th>HighChol</th>\n",
       "      <th></th>\n",
       "      <th></th>\n",
       "      <th></th>\n",
       "    </tr>\n",
       "  </thead>\n",
       "  <tbody>\n",
       "    <tr>\n",
       "      <th>0.0</th>\n",
       "      <td>114917</td>\n",
       "      <td>1755</td>\n",
       "      <td>11601</td>\n",
       "    </tr>\n",
       "    <tr>\n",
       "      <th>1.0</th>\n",
       "      <td>75138</td>\n",
       "      <td>2874</td>\n",
       "      <td>23496</td>\n",
       "    </tr>\n",
       "  </tbody>\n",
       "</table>\n",
       "</div>"
      ],
      "text/plain": [
       "Diabetes_012     0.0   1.0    2.0\n",
       "HighChol                         \n",
       "0.0           114917  1755  11601\n",
       "1.0            75138  2874  23496"
      ]
     },
     "execution_count": 92,
     "metadata": {},
     "output_type": "execute_result"
    }
   ],
   "source": [
    "pd.crosstab(df1.HighChol ,df1.Diabetes_012)"
   ]
  },
  {
   "cell_type": "code",
   "execution_count": 93,
   "metadata": {},
   "outputs": [
    {
     "data": {
      "image/png": "[encoded data removed]",
      "text/plain": [
       "<Figure size 800x600 with 1 Axes>"
      ]
     },
     "metadata": {},
     "output_type": "display_data"
    }
   ],
   "source": [
    "pd.crosstab(df1.HighChol,df1.Diabetes_012).plot(kind=\"bar\",figsize=(8,6))\n",
    "\n",
    "plt.title('Diabetes Disease Frequency for HighChol')\n",
    "plt.xlabel(\"HighBP\")\n",
    "plt.ylabel('Frequency')\n",
    "plt.show()"
   ]
  },
  {
   "cell_type": "markdown",
   "metadata": {},
   "source": [
    "### BMI"
   ]
  },
  {
   "cell_type": "code",
   "execution_count": 95,
   "metadata": {},
   "outputs": [
    {
     "data": {
      "image/png": "[encoded data removed]",
      "text/plain": [
       "<Figure size 800x600 with 1 Axes>"
      ]
     },
     "metadata": {},
     "output_type": "display_data"
    }
   ],
   "source": [
    "# Plotting histogram\n",
    "plt.figure(figsize=(8, 6))\n",
    "plt.hist(df1['BMI'], color='blue', edgecolor='black', alpha=0.7)\n",
    "plt.xlabel('BMI')\n",
    "plt.ylabel('Frequency')\n",
    "plt.title('Distribution of BMI')\n",
    "plt.grid(True)\n",
    "plt.show()"
   ]
  },
  {
   "cell_type": "code",
   "execution_count": 96,
   "metadata": {},
   "outputs": [
    {
     "data": {
      "text/html": [
       "<div>\n",
       "<style scoped>\n",
       "    .dataframe tbody tr th:only-of-type {\n",
       "        vertical-align: middle;\n",
       "    }\n",
       "\n",
       "    .dataframe tbody tr th {\n",
       "        vertical-align: top;\n",
       "    }\n",
       "\n",
       "    .dataframe thead th {\n",
       "        text-align: right;\n",
       "    }\n",
       "</style>\n",
       "<table border=\"1\" class=\"dataframe\">\n",
       "  <thead>\n",
       "    <tr style=\"text-align: right;\">\n",
       "      <th>Diabetes_012</th>\n",
       "      <th>0.0</th>\n",
       "      <th>1.0</th>\n",
       "      <th>2.0</th>\n",
       "    </tr>\n",
       "    <tr>\n",
       "      <th>HighChol</th>\n",
       "      <th></th>\n",
       "      <th></th>\n",
       "      <th></th>\n",
       "    </tr>\n",
       "  </thead>\n",
       "  <tbody>\n",
       "    <tr>\n",
       "      <th>0.0</th>\n",
       "      <td>114917</td>\n",
       "      <td>1755</td>\n",
       "      <td>11601</td>\n",
       "    </tr>\n",
       "    <tr>\n",
       "      <th>1.0</th>\n",
       "      <td>75138</td>\n",
       "      <td>2874</td>\n",
       "      <td>23496</td>\n",
       "    </tr>\n",
       "  </tbody>\n",
       "</table>\n",
       "</div>"
      ],
      "text/plain": [
       "Diabetes_012     0.0   1.0    2.0\n",
       "HighChol                         \n",
       "0.0           114917  1755  11601\n",
       "1.0            75138  2874  23496"
      ]
     },
     "execution_count": 96,
     "metadata": {},
     "output_type": "execute_result"
    }
   ],
   "source": [
    "pd.crosstab(df1.HighChol ,df1.Diabetes_012)"
   ]
  },
  {
   "cell_type": "code",
   "execution_count": 101,
   "metadata": {},
   "outputs": [
    {
     "data": {
      "image/png": "[encoded data removed]",
      "text/plain": [
       "<Figure size 800x600 with 1 Axes>"
      ]
     },
     "metadata": {},
     "output_type": "display_data"
    }
   ],
   "source": [
    "pd.crosstab(df1.BMI,df1.Diabetes_012).plot(kind=\"hist\",figsize=(8,6))\n",
    "\n",
    "plt.title('Diabetes Disease Frequency for BMI')\n",
    "plt.xlabel(\"BMI\")\n",
    "plt.ylabel('Frequency')\n",
    "plt.show()"
   ]
  },
  {
   "cell_type": "code",
   "execution_count": 103,
   "metadata": {},
   "outputs": [
    {
     "data": {
      "text/plain": [
       "<Axes: xlabel='Diabetes_012', ylabel='BMI'>"
      ]
     },
     "execution_count": 103,
     "metadata": {},
     "output_type": "execute_result"
    },
    {
     "data": {
      "image/png": "[encoded data removed]",
      "text/plain": [
       "<Figure size 640x480 with 1 Axes>"
      ]
     },
     "metadata": {},
     "output_type": "display_data"
    }
   ],
   "source": [
    "sns.barplot(x='Diabetes_012',y='BMI',data=df1)"
   ]
  },
  {
   "cell_type": "code",
   "execution_count": 104,
   "metadata": {},
   "outputs": [
    {
     "data": {
      "text/plain": [
       "Diabetes_012\n",
       "0.0    34339\n",
       "2.0    13968\n",
       "1.0     1497\n",
       "Name: count, dtype: int64"
      ]
     },
     "execution_count": 104,
     "metadata": {},
     "output_type": "execute_result"
    }
   ],
   "source": [
    "df1[(df1[\"BMI\"]>32)][\"Diabetes_012\"].value_counts()"
   ]
  },
  {
   "cell_type": "code",
   "execution_count": 105,
   "metadata": {},
   "outputs": [
    {
     "data": {
      "text/plain": [
       "Diabetes_012\n",
       "0.0    7245\n",
       "2.0    3883\n",
       "1.0     343\n",
       "Name: count, dtype: int64"
      ]
     },
     "execution_count": 105,
     "metadata": {},
     "output_type": "execute_result"
    }
   ],
   "source": [
    "df1[(df1[\"BMI\"]>40)][\"Diabetes_012\"].value_counts()"
   ]
  },
  {
   "cell_type": "code",
   "execution_count": 114,
   "metadata": {},
   "outputs": [
    {
     "data": {
      "application/vnd.plotly.v1+json": {
       "config": {
        "plotlyServerURL": "https://plot.ly"
       },
       "data": [
        {
         "branchvalues": "total",
         "domain": {
          "x": [
           0,
           1
          ],
          "y": [
           0,
           1
          ]
         },
         "hovertemplate": "labels=%{label}<br>count=%{value}<br>parent=%{parent}<br>id=%{id}<extra></extra>",
         "ids": [
          "12.0",
          "13.0",
          "14.0",
          "15.0",
          "16.0",
          "17.0",
          "18.0",
          "19.0",
          "20.0",
          "21.0",
          "22.0",
          "23.0",
          "24.0",
          "25.0",
          "26.0",
          "27.0",
          "28.0",
          "29.0",
          "30.0",
          "31.0",
          "32.0",
          "33.0",
          "34.0",
          "35.0",
          "36.0",
          "37.0",
          "38.0",
          "39.0",
          "40.0",
          "41.0",
          "42.0",
          "43.0",
          "44.0",
          "45.0",
          "46.0",
          "47.0",
          "48.0",
          "49.0",
          "50.0",
          "51.0",
          "52.0",
          "53.0",
          "54.0",
          "55.0",
          "56.0",
          "57.0",
          "58.0",
          "59.0",
          "60.0",
          "61.0",
          "62.0",
          "63.0",
          "64.0",
          "65.0",
          "66.0",
          "67.0",
          "68.0",
          "69.0",
          "70.0",
          "71.0",
          "72.0",
          "73.0",
          "74.0",
          "75.0",
          "76.0",
          "77.0",
          "78.0",
          "79.0",
          "80.0",
          "81.0",
          "82.0",
          "83.0",
          "84.0",
          "85.0",
          "86.0",
          "87.0",
          "88.0",
          "89.0",
          "90.0",
          "91.0",
          "92.0",
          "95.0",
          "96.0",
          "98.0"
         ],
         "labels": [
          "12.0",
          "13.0",
          "14.0",
          "15.0",
          "16.0",
          "17.0",
          "18.0",
          "19.0",
          "20.0",
          "21.0",
          "22.0",
          "23.0",
          "24.0",
          "25.0",
          "26.0",
          "27.0",
          "28.0",
          "29.0",
          "30.0",
          "31.0",
          "32.0",
          "33.0",
          "34.0",
          "35.0",
          "36.0",
          "37.0",
          "38.0",
          "39.0",
          "40.0",
          "41.0",
          "42.0",
          "43.0",
          "44.0",
          "45.0",
          "46.0",
          "47.0",
          "48.0",
          "49.0",
          "50.0",
          "51.0",
          "52.0",
          "53.0",
          "54.0",
          "55.0",
          "56.0",
          "57.0",
          "58.0",
          "59.0",
          "60.0",
          "61.0",
          "62.0",
          "63.0",
          "64.0",
          "65.0",
          "66.0",
          "67.0",
          "68.0",
          "69.0",
          "70.0",
          "71.0",
          "72.0",
          "73.0",
          "74.0",
          "75.0",
          "76.0",
          "77.0",
          "78.0",
          "79.0",
          "80.0",
          "81.0",
          "82.0",
          "83.0",
          "84.0",
          "85.0",
          "86.0",
          "87.0",
          "88.0",
          "89.0",
          "90.0",
          "91.0",
          "92.0",
          "95.0",
          "96.0",
          "98.0"
         ],
         "name": "",
         "parents": [
          "",
          "",
          "",
          "",
          "",
          "",
          "",
          "",
          "",
          "",
          "",
          "",
          "",
          "",
          "",
          "",
          "",
          "",
          "",
          "",
          "",
          "",
          "",
          "",
          "",
          "",
          "",
          "",
          "",
          "",
          "",
          "",
          "",
          "",
          "",
          "",
          "",
          "",
          "",
          "",
          "",
          "",
          "",
          "",
          "",
          "",
          "",
          "",
          "",
          "",
          "",
          "",
          "",
          "",
          "",
          "",
          "",
          "",
          "",
          "",
          "",
          "",
          "",
          "",
          "",
          "",
          "",
          "",
          "",
          "",
          "",
          "",
          "",
          "",
          "",
          "",
          "",
          "",
          "",
          "",
          "",
          "",
          "",
          ""
         ],
         "type": "treemap",
         "values": [
          6,
          21,
          41,
          132,
          348,
          761,
          1744,
          3609,
          5542,
          8391,
          11536,
          13312,
          16537,
          14809,
          17808,
          21551,
          14933,
          13758,
          13505,
          11650,
          9983,
          8630,
          6997,
          5490,
          4585,
          4114,
          3376,
          2896,
          2245,
          1654,
          1637,
          1499,
          1043,
          819,
          750,
          622,
          484,
          416,
          372,
          253,
          215,
          237,
          113,
          169,
          109,
          86,
          71,
          54,
          63,
          35,
          43,
          34,
          24,
          19,
          13,
          15,
          14,
          9,
          15,
          49,
          14,
          47,
          16,
          52,
          3,
          55,
          1,
          66,
          2,
          49,
          37,
          2,
          44,
          1,
          1,
          61,
          2,
          28,
          1,
          1,
          32,
          12,
          1,
          7
         ]
        }
       ],
       "layout": {
        "legend": {
         "tracegroupgap": 0
        },
        "template": {
         "data": {
          "bar": [
           {
            "error_x": {
             "color": "#2a3f5f"
            },
            "error_y": {
             "color": "#2a3f5f"
            },
            "marker": {
             "line": {
              "color": "#E5ECF6",
              "width": 0.5
             },
             "pattern": {
              "fillmode": "overlay",
              "size": 10,
              "solidity": 0.2
             }
            },
            "type": "bar"
           }
          ],
          "barpolar": [
           {
            "marker": {
             "line": {
              "color": "#E5ECF6",
              "width": 0.5
             },
             "pattern": {
              "fillmode": "overlay",
              "size": 10,
              "solidity": 0.2
             }
            },
            "type": "barpolar"
           }
          ],
          "carpet": [
           {
            "aaxis": {
             "endlinecolor": "#2a3f5f",
             "gridcolor": "white",
             "linecolor": "white",
             "minorgridcolor": "white",
             "startlinecolor": "#2a3f5f"
            },
            "baxis": {
             "endlinecolor": "#2a3f5f",
             "gridcolor": "white",
             "linecolor": "white",
             "minorgridcolor": "white",
             "startlinecolor": "#2a3f5f"
            },
            "type": "carpet"
           }
          ],
          "choropleth": [
           {
            "colorbar": {
             "outlinewidth": 0,
             "ticks": ""
            },
            "type": "choropleth"
           }
          ],
          "contour": [
           {
            "colorbar": {
             "outlinewidth": 0,
             "ticks": ""
            },
            "colorscale": [
             [
              0,
              "#0d0887"
             ],
             [
              0.1111111111111111,
              "#46039f"
             ],
             [
              0.2222222222222222,
              "#7201a8"
             ],
             [
              0.3333333333333333,
              "#9c179e"
             ],
             [
              0.4444444444444444,
              "#bd3786"
             ],
             [
              0.5555555555555556,
              "#d8576b"
             ],
             [
              0.6666666666666666,
              "#ed7953"
             ],
             [
              0.7777777777777778,
              "#fb9f3a"
             ],
             [
              0.8888888888888888,
              "#fdca26"
             ],
             [
              1,
              "#f0f921"
             ]
            ],
            "type": "contour"
           }
          ],
          "contourcarpet": [
           {
            "colorbar": {
             "outlinewidth": 0,
             "ticks": ""
            },
            "type": "contourcarpet"
           }
          ],
          "heatmap": [
           {
            "colorbar": {
             "outlinewidth": 0,
             "ticks": ""
            },
            "colorscale": [
             [
              0,
              "#0d0887"
             ],
             [
              0.1111111111111111,
              "#46039f"
             ],
             [
              0.2222222222222222,
              "#7201a8"
             ],
             [
              0.3333333333333333,
              "#9c179e"
             ],
             [
              0.4444444444444444,
              "#bd3786"
             ],
             [
              0.5555555555555556,
              "#d8576b"
             ],
             [
              0.6666666666666666,
              "#ed7953"
             ],
             [
              0.7777777777777778,
              "#fb9f3a"
             ],
             [
              0.8888888888888888,
              "#fdca26"
             ],
             [
              1,
              "#f0f921"
             ]
            ],
            "type": "heatmap"
           }
          ],
          "heatmapgl": [
           {
            "colorbar": {
             "outlinewidth": 0,
             "ticks": ""
            },
            "colorscale": [
             [
              0,
              "#0d0887"
             ],
             [
              0.1111111111111111,
              "#46039f"
             ],
             [
              0.2222222222222222,
              "#7201a8"
             ],
             [
              0.3333333333333333,
              "#9c179e"
             ],
             [
              0.4444444444444444,
              "#bd3786"
             ],
             [
              0.5555555555555556,
              "#d8576b"
             ],
             [
              0.6666666666666666,
              "#ed7953"
             ],
             [
              0.7777777777777778,
              "#fb9f3a"
             ],
             [
              0.8888888888888888,
              "#fdca26"
             ],
             [
              1,
              "#f0f921"
             ]
            ],
            "type": "heatmapgl"
           }
          ],
          "histogram": [
           {
            "marker": {
             "pattern": {
              "fillmode": "overlay",
              "size": 10,
              "solidity": 0.2
             }
            },
            "type": "histogram"
           }
          ],
          "histogram2d": [
           {
            "colorbar": {
             "outlinewidth": 0,
             "ticks": ""
            },
            "colorscale": [
             [
              0,
              "#0d0887"
             ],
             [
              0.1111111111111111,
              "#46039f"
             ],
             [
              0.2222222222222222,
              "#7201a8"
             ],
             [
              0.3333333333333333,
              "#9c179e"
             ],
             [
              0.4444444444444444,
              "#bd3786"
             ],
             [
              0.5555555555555556,
              "#d8576b"
             ],
             [
              0.6666666666666666,
              "#ed7953"
             ],
             [
              0.7777777777777778,
              "#fb9f3a"
             ],
             [
              0.8888888888888888,
              "#fdca26"
             ],
             [
              1,
              "#f0f921"
             ]
            ],
            "type": "histogram2d"
           }
          ],
          "histogram2dcontour": [
           {
            "colorbar": {
             "outlinewidth": 0,
             "ticks": ""
            },
            "colorscale": [
             [
              0,
              "#0d0887"
             ],
             [
              0.1111111111111111,
              "#46039f"
             ],
             [
              0.2222222222222222,
              "#7201a8"
             ],
             [
              0.3333333333333333,
              "#9c179e"
             ],
             [
              0.4444444444444444,
              "#bd3786"
             ],
             [
              0.5555555555555556,
              "#d8576b"
             ],
             [
              0.6666666666666666,
              "#ed7953"
             ],
             [
              0.7777777777777778,
              "#fb9f3a"
             ],
             [
              0.8888888888888888,
              "#fdca26"
             ],
             [
              1,
              "#f0f921"
             ]
            ],
            "type": "histogram2dcontour"
           }
          ],
          "mesh3d": [
           {
            "colorbar": {
             "outlinewidth": 0,
             "ticks": ""
            },
            "type": "mesh3d"
           }
          ],
          "parcoords": [
           {
            "line": {
             "colorbar": {
              "outlinewidth": 0,
              "ticks": ""
             }
            },
            "type": "parcoords"
           }
          ],
          "pie": [
           {
            "automargin": true,
            "type": "pie"
           }
          ],
          "scatter": [
           {
            "fillpattern": {
             "fillmode": "overlay",
             "size": 10,
             "solidity": 0.2
            },
            "type": "scatter"
           }
          ],
          "scatter3d": [
           {
            "line": {
             "colorbar": {
              "outlinewidth": 0,
              "ticks": ""
             }
            },
            "marker": {
             "colorbar": {
              "outlinewidth": 0,
              "ticks": ""
             }
            },
            "type": "scatter3d"
           }
          ],
          "scattercarpet": [
           {
            "marker": {
             "colorbar": {
              "outlinewidth": 0,
              "ticks": ""
             }
            },
            "type": "scattercarpet"
           }
          ],
          "scattergeo": [
           {
            "marker": {
             "colorbar": {
              "outlinewidth": 0,
              "ticks": ""
             }
            },
            "type": "scattergeo"
           }
          ],
          "scattergl": [
           {
            "marker": {
             "colorbar": {
              "outlinewidth": 0,
              "ticks": ""
             }
            },
            "type": "scattergl"
           }
          ],
          "scattermapbox": [
           {
            "marker": {
             "colorbar": {
              "outlinewidth": 0,
              "ticks": ""
             }
            },
            "type": "scattermapbox"
           }
          ],
          "scatterpolar": [
           {
            "marker": {
             "colorbar": {
              "outlinewidth": 0,
              "ticks": ""
             }
            },
            "type": "scatterpolar"
           }
          ],
          "scatterpolargl": [
           {
            "marker": {
             "colorbar": {
              "outlinewidth": 0,
              "ticks": ""
             }
            },
            "type": "scatterpolargl"
           }
          ],
          "scatterternary": [
           {
            "marker": {
             "colorbar": {
              "outlinewidth": 0,
              "ticks": ""
             }
            },
            "type": "scatterternary"
           }
          ],
          "surface": [
           {
            "colorbar": {
             "outlinewidth": 0,
             "ticks": ""
            },
            "colorscale": [
             [
              0,
              "#0d0887"
             ],
             [
              0.1111111111111111,
              "#46039f"
             ],
             [
              0.2222222222222222,
              "#7201a8"
             ],
             [
              0.3333333333333333,
              "#9c179e"
             ],
             [
              0.4444444444444444,
              "#bd3786"
             ],
             [
              0.5555555555555556,
              "#d8576b"
             ],
             [
              0.6666666666666666,
              "#ed7953"
             ],
             [
              0.7777777777777778,
              "#fb9f3a"
             ],
             [
              0.8888888888888888,
              "#fdca26"
             ],
             [
              1,
              "#f0f921"
             ]
            ],
            "type": "surface"
           }
          ],
          "table": [
           {
            "cells": {
             "fill": {
              "color": "#EBF0F8"
             },
             "line": {
              "color": "white"
             }
            },
            "header": {
             "fill": {
              "color": "#C8D4E3"
             },
             "line": {
              "color": "white"
             }
            },
            "type": "table"
           }
          ]
         },
         "layout": {
          "annotationdefaults": {
           "arrowcolor": "#2a3f5f",
           "arrowhead": 0,
           "arrowwidth": 1
          },
          "autotypenumbers": "strict",
          "coloraxis": {
           "colorbar": {
            "outlinewidth": 0,
            "ticks": ""
           }
          },
          "colorscale": {
           "diverging": [
            [
             0,
             "#8e0152"
            ],
            [
             0.1,
             "#c51b7d"
            ],
            [
             0.2,
             "#de77ae"
            ],
            [
             0.3,
             "#f1b6da"
            ],
            [
             0.4,
             "#fde0ef"
            ],
            [
             0.5,
             "#f7f7f7"
            ],
            [
             0.6,
             "#e6f5d0"
            ],
            [
             0.7,
             "#b8e186"
            ],
            [
             0.8,
             "#7fbc41"
            ],
            [
             0.9,
             "#4d9221"
            ],
            [
             1,
             "#276419"
            ]
           ],
           "sequential": [
            [
             0,
             "#0d0887"
            ],
            [
             0.1111111111111111,
             "#46039f"
            ],
            [
             0.2222222222222222,
             "#7201a8"
            ],
            [
             0.3333333333333333,
             "#9c179e"
            ],
            [
             0.4444444444444444,
             "#bd3786"
            ],
            [
             0.5555555555555556,
             "#d8576b"
            ],
            [
             0.6666666666666666,
             "#ed7953"
            ],
            [
             0.7777777777777778,
             "#fb9f3a"
            ],
            [
             0.8888888888888888,
             "#fdca26"
            ],
            [
             1,
             "#f0f921"
            ]
           ],
           "sequentialminus": [
            [
             0,
             "#0d0887"
            ],
            [
             0.1111111111111111,
             "#46039f"
            ],
            [
             0.2222222222222222,
             "#7201a8"
            ],
            [
             0.3333333333333333,
             "#9c179e"
            ],
            [
             0.4444444444444444,
             "#bd3786"
            ],
            [
             0.5555555555555556,
             "#d8576b"
            ],
            [
             0.6666666666666666,
             "#ed7953"
            ],
            [
             0.7777777777777778,
             "#fb9f3a"
            ],
            [
             0.8888888888888888,
             "#fdca26"
            ],
            [
             1,
             "#f0f921"
            ]
           ]
          },
          "colorway": [
           "#636efa",
           "#EF553B",
           "#00cc96",
           "#ab63fa",
           "#FFA15A",
           "#19d3f3",
           "#FF6692",
           "#B6E880",
           "#FF97FF",
           "#FECB52"
          ],
          "font": {
           "color": "#2a3f5f"
          },
          "geo": {
           "bgcolor": "white",
           "lakecolor": "white",
           "landcolor": "#E5ECF6",
           "showlakes": true,
           "showland": true,
           "subunitcolor": "white"
          },
          "hoverlabel": {
           "align": "left"
          },
          "hovermode": "closest",
          "mapbox": {
           "style": "light"
          },
          "paper_bgcolor": "white",
          "plot_bgcolor": "#E5ECF6",
          "polar": {
           "angularaxis": {
            "gridcolor": "white",
            "linecolor": "white",
            "ticks": ""
           },
           "bgcolor": "#E5ECF6",
           "radialaxis": {
            "gridcolor": "white",
            "linecolor": "white",
            "ticks": ""
           }
          },
          "scene": {
           "xaxis": {
            "backgroundcolor": "#E5ECF6",
            "gridcolor": "white",
            "gridwidth": 2,
            "linecolor": "white",
            "showbackground": true,
            "ticks": "",
            "zerolinecolor": "white"
           },
           "yaxis": {
            "backgroundcolor": "#E5ECF6",
            "gridcolor": "white",
            "gridwidth": 2,
            "linecolor": "white",
            "showbackground": true,
            "ticks": "",
            "zerolinecolor": "white"
           },
           "zaxis": {
            "backgroundcolor": "#E5ECF6",
            "gridcolor": "white",
            "gridwidth": 2,
            "linecolor": "white",
            "showbackground": true,
            "ticks": "",
            "zerolinecolor": "white"
           }
          },
          "shapedefaults": {
           "line": {
            "color": "#2a3f5f"
           }
          },
          "ternary": {
           "aaxis": {
            "gridcolor": "white",
            "linecolor": "white",
            "ticks": ""
           },
           "baxis": {
            "gridcolor": "white",
            "linecolor": "white",
            "ticks": ""
           },
           "bgcolor": "#E5ECF6",
           "caxis": {
            "gridcolor": "white",
            "linecolor": "white",
            "ticks": ""
           }
          },
          "title": {
           "x": 0.05
          },
          "xaxis": {
           "automargin": true,
           "gridcolor": "white",
           "linecolor": "white",
           "ticks": "",
           "title": {
            "standoff": 15
           },
           "zerolinecolor": "white",
           "zerolinewidth": 2
          },
          "yaxis": {
           "automargin": true,
           "gridcolor": "white",
           "linecolor": "white",
           "ticks": "",
           "title": {
            "standoff": 15
           },
           "zerolinecolor": "white",
           "zerolinewidth": 2
          }
         }
        },
        "title": {
         "text": "BMI counts"
        }
       }
      }
     },
     "metadata": {},
     "output_type": "display_data"
    }
   ],
   "source": [
    "ax= px.treemap(df1,path=['BMI'],title=\"BMI counts\")\n",
    "ax.show()"
   ]
  },
  {
   "cell_type": "markdown",
   "metadata": {},
   "source": [
    "### General Health"
   ]
  },
  {
   "cell_type": "code",
   "execution_count": 110,
   "metadata": {},
   "outputs": [
    {
     "data": {
      "image/png": "[encoded data removed]",
      "text/plain": [
       "<Figure size 800x600 with 1 Axes>"
      ]
     },
     "metadata": {},
     "output_type": "display_data"
    }
   ],
   "source": [
    "# Plotting bar plot\n",
    "plt.figure(figsize=(8, 6))\n",
    "df1['GenHlth'].value_counts().plot(kind='bar', color='blue', edgecolor='black', alpha=0.7)\n",
    "plt.xlabel('GenHlth ')\n",
    "plt.ylabel('Frequency')\n",
    "plt.title('Distribution of General Health')\n",
    "plt.xticks(rotation=0)\n",
    "plt.grid(True)\n",
    "plt.show()"
   ]
  },
  {
   "cell_type": "code",
   "execution_count": 112,
   "metadata": {},
   "outputs": [
    {
     "data": {
      "image/png": "[encoded data removed]",
      "text/plain": [
       "<Figure size 800x600 with 1 Axes>"
      ]
     },
     "metadata": {},
     "output_type": "display_data"
    }
   ],
   "source": [
    "pd.crosstab(df1.GenHlth,df1.Diabetes_012).plot(kind=\"bar\",figsize=(8,6))\n",
    "\n",
    "plt.title('Diabetes Disease Frequency for General Health')\n",
    "plt.xlabel(\"General Health\")\n",
    "plt.ylabel('Frequency')\n",
    "plt.show()"
   ]
  },
  {
   "cell_type": "markdown",
   "metadata": {},
   "source": [
    "### Difficulty Walking"
   ]
  },
  {
   "cell_type": "code",
   "execution_count": 115,
   "metadata": {},
   "outputs": [
    {
     "data": {
      "image/png": "[encoded data removed]",
      "text/plain": [
       "<Figure size 800x600 with 1 Axes>"
      ]
     },
     "metadata": {},
     "output_type": "display_data"
    }
   ],
   "source": [
    "# Plotting bar plot\n",
    "plt.figure(figsize=(8, 6))\n",
    "df1['DiffWalk'].value_counts().plot(kind='bar', color='blue', edgecolor='black', alpha=0.7)\n",
    "plt.xlabel('Difficulty Walking')\n",
    "plt.ylabel('Frequency')\n",
    "plt.title('Distribution of Difficulty walking')\n",
    "plt.xticks(rotation=0)\n",
    "plt.grid(True)\n",
    "plt.show()"
   ]
  },
  {
   "cell_type": "code",
   "execution_count": 116,
   "metadata": {},
   "outputs": [
    {
     "data": {
      "image/png": "[encoded data removed]",
      "text/plain": [
       "<Figure size 800x600 with 1 Axes>"
      ]
     },
     "metadata": {},
     "output_type": "display_data"
    }
   ],
   "source": [
    "pd.crosstab(df1.DiffWalk,df1.Diabetes_012).plot(kind=\"bar\",figsize=(8,6))\n",
    "\n",
    "plt.title('Diabetes Disease Frequency for Difficulty Walking')\n",
    "plt.xlabel(\"Difficulty walking\")\n",
    "plt.ylabel('Frequency')\n",
    "plt.show()"
   ]
  }
 ],
 "metadata": {
  "kernelspec": {
   "display_name": "learn-env",
   "language": "python",
   "name": "python3"
  },
  "language_info": {
   "codemirror_mode": {
    "name": "ipython",
    "version": 3
   },
   "file_extension": ".py",
   "mimetype": "text/x-python",
   "name": "python",
   "nbconvert_exporter": "python",
   "pygments_lexer": "ipython3",
   "version": "3.10.14"
  }
 },
 "nbformat": 4,
 "nbformat_minor": 2
}
